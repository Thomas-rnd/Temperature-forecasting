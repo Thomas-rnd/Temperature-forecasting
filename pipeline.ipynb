{
 "cells": [
  {
   "cell_type": "code",
   "execution_count": 17,
   "id": "initial_id",
   "metadata": {
    "collapsed": true,
    "ExecuteTime": {
     "end_time": "2023-11-30T14:00:02.544411700Z",
     "start_time": "2023-11-30T14:00:02.540858100Z"
    }
   },
   "outputs": [],
   "source": [
    "import pandas as pd\n",
    "import numpy as np\n",
    "import logging\n",
    "import os\n",
    "import pandas as pd\n",
    "from torch.utils.data import Dataset\n",
    "import torch\n",
    "import matplotlib.pyplot as plt\n",
    "import torch.nn as nn\n",
    "import torch.optim as optim\n",
    "from torch.utils.data import DataLoader, TensorDataset\n",
    "from sklearn.model_selection import train_test_split"
   ]
  },
  {
   "cell_type": "code",
   "execution_count": 18,
   "outputs": [],
   "source": [
    "logging.basicConfig(level=logging.INFO)"
   ],
   "metadata": {
    "collapsed": false,
    "ExecuteTime": {
     "end_time": "2023-11-30T14:00:02.566233Z",
     "start_time": "2023-11-30T14:00:02.552538300Z"
    }
   },
   "id": "2f176304f9d29dd3"
  },
  {
   "cell_type": "code",
   "execution_count": 19,
   "outputs": [],
   "source": [
    "class CustomDataLoader:\n",
    "    def __init__(self, feature_path, files_path):\n",
    "        self.feature_path = feature_path\n",
    "        self.files_path = files_path\n",
    "\n",
    "    def load_and_split_data(self):\n",
    "        try:\n",
    "            # Load and concatenate the CSV files\n",
    "            df_list = [pd.read_csv(os.path.join(feature_path,file)) for file in file_paths]\n",
    "            data = pd.concat(df_list, ignore_index=True)\n",
    "            logging.info(\"Data loaded successfully.\")\n",
    "            return data\n",
    "        except Exception as e:\n",
    "            logging.error(f\"Error loading data: {e}\")\n",
    "            raise"
   ],
   "metadata": {
    "collapsed": false,
    "ExecuteTime": {
     "end_time": "2023-11-30T14:00:02.572245500Z",
     "start_time": "2023-11-30T14:00:02.556556800Z"
    }
   },
   "id": "2721344149d0f91d"
  },
  {
   "cell_type": "code",
   "execution_count": 37,
   "outputs": [],
   "source": [
    "class DataPreprocessor:\n",
    "    def __init__(self, data):\n",
    "        self.data = data\n",
    "\n",
    "    def preprocess(self):\n",
    "        # Drop the column named 'g'\n",
    "        if 'g' in self.data.columns:\n",
    "            logging.info(\"Drop column 'g'.\")\n",
    "            self.data.drop('g', axis=1, inplace=True)\n",
    "        \n",
    "        # Drop the column named 'sst'\n",
    "        if 'sst' in self.data.columns:\n",
    "            logging.info(\"Drop column 'sst'.\")\n",
    "            self.data.drop('sst', axis=1, inplace=True)\n",
    "        \n",
    "        logging.info(\"Changing time to datetime format.\")\n",
    "        # if 'time' in self.data.columns:\n",
    "        #     self.data['time'] = pd.to_datetime(self.data['time']).dt.date.astype('int64') // 10**9\n",
    "        \n",
    "        # Drop rows with any NaN values\n",
    "        logging.info(\"Drop NaN rows.\")\n",
    "        self.data.dropna(inplace=True)\n",
    "        \n",
    "        # Convert the 'time' column to datetime\n",
    "        self.data['time'] = pd.to_datetime(self.data['time']).dt.date\n",
    "\n",
    "        # Group by 'time' and calculate the mean\n",
    "        self.data = self.data.groupby(['longitude','latitude','time']).mean().reset_index()\n",
    "        \n",
    "        self.data = self.data.sort_values(by='time')\n",
    "        \n",
    "        logging.info(\"Data preprocessing completed.\")\n",
    "        return self.data\n",
    "    \n",
    "    def build_sequences(self):\n",
    "        pass"
   ],
   "metadata": {
    "collapsed": false,
    "ExecuteTime": {
     "end_time": "2023-11-30T14:06:59.687024600Z",
     "start_time": "2023-11-30T14:06:59.654868500Z"
    }
   },
   "id": "7756be953e831a44"
  },
  {
   "cell_type": "code",
   "execution_count": 21,
   "outputs": [],
   "source": [
    "class CustomDataset(Dataset):\n",
    "    def __init__(self, features, targets):\n",
    "        \"\"\"\n",
    "        Custom Dataset compatible with PyTorch DataLoader.\n",
    "        :param features: Pandas DataFrame or NumPy array containing the features.\n",
    "        :param targets: Pandas Series or NumPy array containing the targets.\n",
    "        \"\"\"\n",
    "        \n",
    "        self.features = torch.tensor(features.values, dtype=torch.float32)\n",
    "        self.targets = torch.tensor(targets.values, dtype=torch.float32)\n",
    "\n",
    "    def __len__(self):\n",
    "        return len(self.features)\n",
    "\n",
    "    def __getitem__(self, idx):\n",
    "        return self.features[idx], self.targets[idx]"
   ],
   "metadata": {
    "collapsed": false,
    "ExecuteTime": {
     "end_time": "2023-11-30T14:00:02.624158200Z",
     "start_time": "2023-11-30T14:00:02.588216600Z"
    }
   },
   "id": "76ec92f1e8db95ce"
  },
  {
   "cell_type": "code",
   "execution_count": 50,
   "outputs": [],
   "source": [
    "class DataSplitter:\n",
    "    def __init__(self, data, target_name='2t', test_size=0.2, val_size=0.1, batch_size=32):\n",
    "        self.data = data\n",
    "        self.target_name = target_name\n",
    "        self.test_size = test_size\n",
    "        self.val_size = val_size\n",
    "        self.batch_size = batch_size\n",
    "\n",
    "    def split_data(self):\n",
    "        X = self.data.drop(self.target_name, axis=1)\n",
    "        y = self.data[self.target_name]\n",
    "\n",
    "        # Splitting the data\n",
    "        X_train, X_testv = train_test_split(X, test_size=.4, shuffle=False)\n",
    "        X_val, X_test = train_test_split(X_testv, test_size=.5, shuffle=False)\n",
    "        \n",
    "        X_train = X_train[~X_train.time.isin([max(np.unique(X_train.time))])]\n",
    "        X_val = X_val[~X_val.time.isin([min(np.unique(X_val.time)), max(np.unique(X_val.time))])]\n",
    "        X_test = X_test[~X_test.time.isin([max(np.unique(X_test.time))])]\n",
    "\n",
    "        # Creating Dataset objects\n",
    "        # train_dataset = CustomDataset(X_train, y_train)\n",
    "        # val_dataset = CustomDataset(X_val, y_val)\n",
    "        # test_dataset = CustomDataset(X_test, y_test)\n",
    "\n",
    "        # Creating DataLoader objects\n",
    "        # train_loader = DataLoader(train_dataset, batch_size=self.batch_size, shuffle=False)\n",
    "        # val_loader = DataLoader(val_dataset, batch_size=self.batch_size, shuffle=False)\n",
    "        # test_loader = DataLoader(test_dataset, batch_size=self.batch_size, shuffle=False)\n",
    "        return X_train, X_val, X_test\n",
    "    \n",
    "    def sequence_maker(self, data, ts_p=5, ts_f=2, step=1):\n",
    "        \n",
    "        \n",
    "        \n",
    "        return"
   ],
   "metadata": {
    "collapsed": false,
    "ExecuteTime": {
     "end_time": "2023-11-30T14:21:27.109749900Z",
     "start_time": "2023-11-30T14:21:27.091608600Z"
    }
   },
   "id": "c2419e211ae52a39"
  },
  {
   "cell_type": "code",
   "execution_count": 23,
   "outputs": [],
   "source": [
    "def log_combined_data_loader_info(train_loader, val_loader, test_loader):\n",
    "    \"\"\"\n",
    "    Logs combined information about the Train, Validation, and Test DataLoaders in a tabular format,\n",
    "    including the percentage of each dataset.\n",
    "    :param train_loader: PyTorch DataLoader for the training set.\n",
    "    :param val_loader: PyTorch DataLoader for the validation set.\n",
    "    :param test_loader: PyTorch DataLoader for the test set.\n",
    "    \"\"\"\n",
    "    # Gathering information\n",
    "    total_samples_each = [len(train_loader.dataset), len(val_loader.dataset), len(test_loader.dataset)]\n",
    "    total_samples_all = sum(total_samples_each)\n",
    "    percentages = [(samples / total_samples_all) * 100 for samples in total_samples_each]\n",
    "\n",
    "    info = {\n",
    "        \"Set\": [\"Train\", \"Validation\", \"Test\"],\n",
    "        \"Total Batches\": [len(train_loader), len(val_loader), len(test_loader)],\n",
    "        \"Batch Size\": [train_loader.batch_size, val_loader.batch_size, test_loader.batch_size],\n",
    "        \"Total Samples\": total_samples_each,\n",
    "        \"Percentage\": percentages\n",
    "    }\n",
    "\n",
    "    # Creating a formatted string to represent the table\n",
    "    table_header = f\"{'Set':<12}{'Total Batches':<15}{'Batch Size':<12}{'Total Samples':<15}{'Percentage':<10}\"\n",
    "    table_rows = [f\"{set_name:<12}{batches:<15}{batch_size:<12}{samples:<15}{percent:.2f}%\" \n",
    "                  for set_name, batches, batch_size, samples, percent in zip(info[\"Set\"], info[\"Total Batches\"], info[\"Batch Size\"], info[\"Total Samples\"], info[\"Percentage\"])]\n",
    "\n",
    "    table = \"\\n\".join([table_header] + table_rows)\n",
    "\n",
    "    # Logging the table\n",
    "    logging.info(\"\\n\" + table)"
   ],
   "metadata": {
    "collapsed": false,
    "ExecuteTime": {
     "end_time": "2023-11-30T14:00:02.624158200Z",
     "start_time": "2023-11-30T14:00:02.612381700Z"
    }
   },
   "id": "6d82e4b4f573fcf3"
  },
  {
   "cell_type": "code",
   "execution_count": 24,
   "outputs": [],
   "source": [
    "class ModelBuilder:\n",
    "    def __init__(self):\n",
    "        pass\n",
    "    def hybrid_conv_lstm(self):\n",
    "        pass\n",
    "    def SAVP(self):\n",
    "        pass\n",
    "    def Attention(self):\n",
    "        pass\n",
    "    def informer(self):\n",
    "        pass"
   ],
   "metadata": {
    "collapsed": false,
    "ExecuteTime": {
     "end_time": "2023-11-30T14:00:02.624158200Z",
     "start_time": "2023-11-30T14:00:02.619905100Z"
    }
   },
   "id": "999e4c344b120658"
  },
  {
   "cell_type": "code",
   "execution_count": 25,
   "outputs": [],
   "source": [
    "class PredictionVisualizer:\n",
    "    def __init__(self, model, data):\n",
    "        self.model = model\n",
    "        self.data = data\n",
    "\n",
    "    def visualize_future_forecast(self, future_data):\n",
    "        predictions = self.model.predict(future_data)\n",
    "        plt.figure(figsize=(10, 6))\n",
    "        plt.plot(predictions)\n",
    "        plt.title(\"Future Temperature Forecast\")\n",
    "        plt.xlabel(\"Time\")\n",
    "        plt.ylabel(\"Temperature\")\n",
    "        plt.savefig(\"future_forecast.png\")\n",
    "        plt.show()\n",
    "\n",
    "    def compare_actual_vs_predicted(self, test_data):\n",
    "        actual = test_data['target']\n",
    "        predicted = self.model.predict(test_data.drop('target', axis=1))\n",
    "        plt.figure(figsize=(10, 6))\n",
    "        plt.plot(actual, label='Actual')\n",
    "        plt.plot(predicted, label='Predicted')\n",
    "        plt.title(\"Comparison of Actual vs Predicted Temperatures\")\n",
    "        plt.xlabel(\"Time\")\n",
    "        plt.ylabel(\"Temperature\")\n",
    "        plt.legend()\n",
    "        plt.savefig(\"actual_vs_predicted.png\")\n",
    "        plt.show()"
   ],
   "metadata": {
    "collapsed": false,
    "ExecuteTime": {
     "end_time": "2023-11-30T14:00:02.682534300Z",
     "start_time": "2023-11-30T14:00:02.634798900Z"
    }
   },
   "id": "171982e690287aba"
  },
  {
   "cell_type": "code",
   "execution_count": 26,
   "outputs": [],
   "source": [
    "class ReportGenerator:\n",
    "    def __init__(self, actual, predicted):\n",
    "        self.actual = actual\n",
    "        self.predicted = predicted\n",
    "\n",
    "    def generate_report(self):\n",
    "        report_df = pd.DataFrame({\n",
    "            'Actual': self.actual,\n",
    "            'Predicted': self.predicted.squeeze(),\n",
    "            'Difference': self.actual - self.predicted.squeeze()\n",
    "        })\n",
    "        report_df['Error'] = report_df['Difference'].abs()\n",
    "        report_df['Squared Error'] = report_df['Error'] ** 2\n",
    "\n",
    "        # Additional statistics\n",
    "        report_df['Mean Actual'] = self.actual.mean()\n",
    "        report_df['Mean Predicted'] = self.predicted.mean()\n",
    "        report_df['Standard Deviation Actual'] = self.actual.std()\n",
    "        report_df['Standard Deviation Predicted'] = self.predicted.std()\n",
    "\n",
    "        report_df.to_csv('report.csv', index=False)\n",
    "        logging.info(\"Report generated and saved as report.csv.\")"
   ],
   "metadata": {
    "collapsed": false,
    "ExecuteTime": {
     "end_time": "2023-11-30T14:00:02.682534300Z",
     "start_time": "2023-11-30T14:00:02.648581500Z"
    }
   },
   "id": "b8aa38d7d4259fa0"
  },
  {
   "cell_type": "code",
   "execution_count": 26,
   "outputs": [],
   "source": [],
   "metadata": {
    "collapsed": false,
    "ExecuteTime": {
     "end_time": "2023-11-30T14:00:02.682534300Z",
     "start_time": "2023-11-30T14:00:02.656694800Z"
    }
   },
   "id": "d8c801bdf0d251a2"
  },
  {
   "cell_type": "code",
   "execution_count": 27,
   "outputs": [],
   "source": [
    "########################################################################\n",
    "#wwwwwwwwwwwwwwwwwwwwwwwwwwwwwwwwwwwwwwwwwwwwwwwwwwwwwwwwwwwwwwwwwwwwww#\n",
    "########################################################################"
   ],
   "metadata": {
    "collapsed": false,
    "ExecuteTime": {
     "end_time": "2023-11-30T14:00:02.682534300Z",
     "start_time": "2023-11-30T14:00:02.663451300Z"
    }
   },
   "id": "1db8a5273f1aec20"
  },
  {
   "cell_type": "code",
   "execution_count": 27,
   "outputs": [],
   "source": [],
   "metadata": {
    "collapsed": false,
    "ExecuteTime": {
     "end_time": "2023-11-30T14:00:02.682534300Z",
     "start_time": "2023-11-30T14:00:02.666464700Z"
    }
   },
   "id": "59d792097968baa4"
  },
  {
   "cell_type": "code",
   "execution_count": 28,
   "outputs": [
    {
     "name": "stderr",
     "output_type": "stream",
     "text": [
      "INFO:root:Data loaded successfully.\n"
     ]
    }
   ],
   "source": [
    "feature_path = 'features_selection/data'\n",
    "file_paths = ['features_0_19402023.csv', 'features_1_19402023.csv', \n",
    "              'features_2_19402023.csv', 'features_3_19402023.csv',\n",
    "              'features_4_19402023.csv']\n",
    "\n",
    "# Initialize DataLoader and split data\n",
    "data_loader = CustomDataLoader(feature_path,file_paths)\n",
    "data = data_loader.load_and_split_data()"
   ],
   "metadata": {
    "collapsed": false,
    "ExecuteTime": {
     "end_time": "2023-11-30T14:00:09.197088100Z",
     "start_time": "2023-11-30T14:00:02.670026400Z"
    }
   },
   "id": "f54da26663e889b4"
  },
  {
   "cell_type": "code",
   "execution_count": 38,
   "outputs": [
    {
     "name": "stderr",
     "output_type": "stream",
     "text": [
      "INFO:root:Changing time to datetime format.\n",
      "INFO:root:Drop NaN rows.\n",
      "INFO:root:Data preprocessing completed.\n"
     ]
    }
   ],
   "source": [
    "# Preprocess data\n",
    "preprocessor = DataPreprocessor(data)\n",
    "data = preprocessor.preprocess()"
   ],
   "metadata": {
    "collapsed": false,
    "ExecuteTime": {
     "end_time": "2023-11-30T14:07:17.265616Z",
     "start_time": "2023-11-30T14:07:13.164832200Z"
    }
   },
   "id": "9bda1a9c69bf194f"
  },
  {
   "cell_type": "code",
   "execution_count": 39,
   "outputs": [
    {
     "data": {
      "text/plain": "         longitude  latitude        time        10u       10v       100u  \\\n0           125.00     34.00  1940-01-01   0.958458 -4.724854   1.056137   \n1303806     128.75     35.00  1940-01-01  -1.111855 -2.787842  -1.359879   \n1011834     127.75     37.50  1940-01-01   0.568809  0.364502   1.010239   \n785304      127.25     34.75  1940-01-01   1.417442 -2.135498   2.296860   \n558774      126.50     36.25  1940-01-01   0.546349 -2.204346   0.964829   \n...            ...       ...         ...        ...       ...        ...   \n1409519     129.00     35.75  2023-11-19   2.160927  0.891113   4.760422   \n382583      126.00     35.75  2023-11-19   5.438270 -2.354004   6.004074   \n1414553     129.00     36.00  2023-11-19   2.747841  0.166504   5.965500   \n1384349     129.00     34.50  2023-11-19   9.151161 -1.266602  10.230636   \n1797137     130.00     38.00  2023-11-19  12.168251 -4.151855  13.917649   \n\n             100v          msl     swvl1      geo500         2t  \n0       -4.963158  102534.2825  0.000002  54348.3280   4.846588  \n1303806 -2.984154  102310.1575  0.009356  54162.0780   3.586822  \n1011834  0.389870  102475.0325  0.408617  53828.4530  -5.895599  \n785304  -3.574974  102433.6575  0.255899  54229.3280  -1.397552  \n558774  -2.806419  102515.4075  0.167559  54060.9530  -0.891693  \n...           ...          ...       ...         ...        ...  \n1409519  1.317146  101808.1875  0.328074  55056.3665   6.446319  \n382583  -2.719963  101930.0625  0.000002  55247.3665  12.827179  \n1414553  0.071053  101785.8125  0.334719  54967.3665   7.259796  \n1384349 -1.435783  101907.3125  0.000002  55382.2415  13.353546  \n1797137 -4.906975  101357.1875  0.000002  54166.8665  11.856476  \n\n[1797138 rows x 11 columns]",
      "text/html": "<div>\n<style scoped>\n    .dataframe tbody tr th:only-of-type {\n        vertical-align: middle;\n    }\n\n    .dataframe tbody tr th {\n        vertical-align: top;\n    }\n\n    .dataframe thead th {\n        text-align: right;\n    }\n</style>\n<table border=\"1\" class=\"dataframe\">\n  <thead>\n    <tr style=\"text-align: right;\">\n      <th></th>\n      <th>longitude</th>\n      <th>latitude</th>\n      <th>time</th>\n      <th>10u</th>\n      <th>10v</th>\n      <th>100u</th>\n      <th>100v</th>\n      <th>msl</th>\n      <th>swvl1</th>\n      <th>geo500</th>\n      <th>2t</th>\n    </tr>\n  </thead>\n  <tbody>\n    <tr>\n      <th>0</th>\n      <td>125.00</td>\n      <td>34.00</td>\n      <td>1940-01-01</td>\n      <td>0.958458</td>\n      <td>-4.724854</td>\n      <td>1.056137</td>\n      <td>-4.963158</td>\n      <td>102534.2825</td>\n      <td>0.000002</td>\n      <td>54348.3280</td>\n      <td>4.846588</td>\n    </tr>\n    <tr>\n      <th>1303806</th>\n      <td>128.75</td>\n      <td>35.00</td>\n      <td>1940-01-01</td>\n      <td>-1.111855</td>\n      <td>-2.787842</td>\n      <td>-1.359879</td>\n      <td>-2.984154</td>\n      <td>102310.1575</td>\n      <td>0.009356</td>\n      <td>54162.0780</td>\n      <td>3.586822</td>\n    </tr>\n    <tr>\n      <th>1011834</th>\n      <td>127.75</td>\n      <td>37.50</td>\n      <td>1940-01-01</td>\n      <td>0.568809</td>\n      <td>0.364502</td>\n      <td>1.010239</td>\n      <td>0.389870</td>\n      <td>102475.0325</td>\n      <td>0.408617</td>\n      <td>53828.4530</td>\n      <td>-5.895599</td>\n    </tr>\n    <tr>\n      <th>785304</th>\n      <td>127.25</td>\n      <td>34.75</td>\n      <td>1940-01-01</td>\n      <td>1.417442</td>\n      <td>-2.135498</td>\n      <td>2.296860</td>\n      <td>-3.574974</td>\n      <td>102433.6575</td>\n      <td>0.255899</td>\n      <td>54229.3280</td>\n      <td>-1.397552</td>\n    </tr>\n    <tr>\n      <th>558774</th>\n      <td>126.50</td>\n      <td>36.25</td>\n      <td>1940-01-01</td>\n      <td>0.546349</td>\n      <td>-2.204346</td>\n      <td>0.964829</td>\n      <td>-2.806419</td>\n      <td>102515.4075</td>\n      <td>0.167559</td>\n      <td>54060.9530</td>\n      <td>-0.891693</td>\n    </tr>\n    <tr>\n      <th>...</th>\n      <td>...</td>\n      <td>...</td>\n      <td>...</td>\n      <td>...</td>\n      <td>...</td>\n      <td>...</td>\n      <td>...</td>\n      <td>...</td>\n      <td>...</td>\n      <td>...</td>\n      <td>...</td>\n    </tr>\n    <tr>\n      <th>1409519</th>\n      <td>129.00</td>\n      <td>35.75</td>\n      <td>2023-11-19</td>\n      <td>2.160927</td>\n      <td>0.891113</td>\n      <td>4.760422</td>\n      <td>1.317146</td>\n      <td>101808.1875</td>\n      <td>0.328074</td>\n      <td>55056.3665</td>\n      <td>6.446319</td>\n    </tr>\n    <tr>\n      <th>382583</th>\n      <td>126.00</td>\n      <td>35.75</td>\n      <td>2023-11-19</td>\n      <td>5.438270</td>\n      <td>-2.354004</td>\n      <td>6.004074</td>\n      <td>-2.719963</td>\n      <td>101930.0625</td>\n      <td>0.000002</td>\n      <td>55247.3665</td>\n      <td>12.827179</td>\n    </tr>\n    <tr>\n      <th>1414553</th>\n      <td>129.00</td>\n      <td>36.00</td>\n      <td>2023-11-19</td>\n      <td>2.747841</td>\n      <td>0.166504</td>\n      <td>5.965500</td>\n      <td>0.071053</td>\n      <td>101785.8125</td>\n      <td>0.334719</td>\n      <td>54967.3665</td>\n      <td>7.259796</td>\n    </tr>\n    <tr>\n      <th>1384349</th>\n      <td>129.00</td>\n      <td>34.50</td>\n      <td>2023-11-19</td>\n      <td>9.151161</td>\n      <td>-1.266602</td>\n      <td>10.230636</td>\n      <td>-1.435783</td>\n      <td>101907.3125</td>\n      <td>0.000002</td>\n      <td>55382.2415</td>\n      <td>13.353546</td>\n    </tr>\n    <tr>\n      <th>1797137</th>\n      <td>130.00</td>\n      <td>38.00</td>\n      <td>2023-11-19</td>\n      <td>12.168251</td>\n      <td>-4.151855</td>\n      <td>13.917649</td>\n      <td>-4.906975</td>\n      <td>101357.1875</td>\n      <td>0.000002</td>\n      <td>54166.8665</td>\n      <td>11.856476</td>\n    </tr>\n  </tbody>\n</table>\n<p>1797138 rows × 11 columns</p>\n</div>"
     },
     "execution_count": 39,
     "metadata": {},
     "output_type": "execute_result"
    }
   ],
   "source": [
    "data"
   ],
   "metadata": {
    "collapsed": false,
    "ExecuteTime": {
     "end_time": "2023-11-30T14:07:20.626906Z",
     "start_time": "2023-11-30T14:07:20.579350300Z"
    }
   },
   "id": "8a57ef7c10ef2951"
  },
  {
   "cell_type": "code",
   "execution_count": 51,
   "outputs": [
    {
     "data": {
      "text/plain": "         longitude  latitude        time       10u       10v      100u  \\\n0           125.00     34.00  1940-01-01  0.958458 -4.724854  1.056137   \n1303806     128.75     35.00  1940-01-01 -1.111855 -2.787842 -1.359879   \n1011834     127.75     37.50  1940-01-01  0.568809  0.364502  1.010239   \n785304      127.25     34.75  1940-01-01  1.417442 -2.135498  2.296860   \n558774      126.50     36.25  1940-01-01  0.546349 -2.204346  0.964829   \n...            ...       ...         ...       ...       ...       ...   \n924241      127.50     37.25  1990-04-25  1.943413  3.971336  3.450066   \n1694443     129.75     37.25  1990-04-25  4.099663  8.636864  5.260124   \n657439      126.75     36.75  1990-04-25  2.404839  5.795555  4.023796   \n1135669     128.25     35.00  1990-04-25  2.674370  2.579735  4.304069   \n1281655     128.50     38.00  1990-04-25  5.043511  3.765770  8.261589   \n\n              100v          msl     swvl1      geo500  \n0        -4.963158  102534.2825  0.000002  54348.3280  \n1303806  -2.984154  102310.1575  0.009356  54162.0780  \n1011834   0.389870  102475.0325  0.408617  53828.4530  \n785304   -3.574974  102433.6575  0.255899  54229.3280  \n558774   -2.806419  102515.4075  0.167559  54060.9530  \n...            ...          ...       ...         ...  \n924241    6.411087  101481.5300  0.443538  54246.0625  \n1694443  10.263626  101328.6550 -0.000004  54350.5625  \n657439    9.251907  101487.5300  0.439220  54382.0625  \n1135669   4.209915  101803.7800  0.374164  55000.6875  \n1281655   6.149368  101170.7800  0.369854  54134.6875  \n\n[1078140 rows x 10 columns]",
      "text/html": "<div>\n<style scoped>\n    .dataframe tbody tr th:only-of-type {\n        vertical-align: middle;\n    }\n\n    .dataframe tbody tr th {\n        vertical-align: top;\n    }\n\n    .dataframe thead th {\n        text-align: right;\n    }\n</style>\n<table border=\"1\" class=\"dataframe\">\n  <thead>\n    <tr style=\"text-align: right;\">\n      <th></th>\n      <th>longitude</th>\n      <th>latitude</th>\n      <th>time</th>\n      <th>10u</th>\n      <th>10v</th>\n      <th>100u</th>\n      <th>100v</th>\n      <th>msl</th>\n      <th>swvl1</th>\n      <th>geo500</th>\n    </tr>\n  </thead>\n  <tbody>\n    <tr>\n      <th>0</th>\n      <td>125.00</td>\n      <td>34.00</td>\n      <td>1940-01-01</td>\n      <td>0.958458</td>\n      <td>-4.724854</td>\n      <td>1.056137</td>\n      <td>-4.963158</td>\n      <td>102534.2825</td>\n      <td>0.000002</td>\n      <td>54348.3280</td>\n    </tr>\n    <tr>\n      <th>1303806</th>\n      <td>128.75</td>\n      <td>35.00</td>\n      <td>1940-01-01</td>\n      <td>-1.111855</td>\n      <td>-2.787842</td>\n      <td>-1.359879</td>\n      <td>-2.984154</td>\n      <td>102310.1575</td>\n      <td>0.009356</td>\n      <td>54162.0780</td>\n    </tr>\n    <tr>\n      <th>1011834</th>\n      <td>127.75</td>\n      <td>37.50</td>\n      <td>1940-01-01</td>\n      <td>0.568809</td>\n      <td>0.364502</td>\n      <td>1.010239</td>\n      <td>0.389870</td>\n      <td>102475.0325</td>\n      <td>0.408617</td>\n      <td>53828.4530</td>\n    </tr>\n    <tr>\n      <th>785304</th>\n      <td>127.25</td>\n      <td>34.75</td>\n      <td>1940-01-01</td>\n      <td>1.417442</td>\n      <td>-2.135498</td>\n      <td>2.296860</td>\n      <td>-3.574974</td>\n      <td>102433.6575</td>\n      <td>0.255899</td>\n      <td>54229.3280</td>\n    </tr>\n    <tr>\n      <th>558774</th>\n      <td>126.50</td>\n      <td>36.25</td>\n      <td>1940-01-01</td>\n      <td>0.546349</td>\n      <td>-2.204346</td>\n      <td>0.964829</td>\n      <td>-2.806419</td>\n      <td>102515.4075</td>\n      <td>0.167559</td>\n      <td>54060.9530</td>\n    </tr>\n    <tr>\n      <th>...</th>\n      <td>...</td>\n      <td>...</td>\n      <td>...</td>\n      <td>...</td>\n      <td>...</td>\n      <td>...</td>\n      <td>...</td>\n      <td>...</td>\n      <td>...</td>\n      <td>...</td>\n    </tr>\n    <tr>\n      <th>924241</th>\n      <td>127.50</td>\n      <td>37.25</td>\n      <td>1990-04-25</td>\n      <td>1.943413</td>\n      <td>3.971336</td>\n      <td>3.450066</td>\n      <td>6.411087</td>\n      <td>101481.5300</td>\n      <td>0.443538</td>\n      <td>54246.0625</td>\n    </tr>\n    <tr>\n      <th>1694443</th>\n      <td>129.75</td>\n      <td>37.25</td>\n      <td>1990-04-25</td>\n      <td>4.099663</td>\n      <td>8.636864</td>\n      <td>5.260124</td>\n      <td>10.263626</td>\n      <td>101328.6550</td>\n      <td>-0.000004</td>\n      <td>54350.5625</td>\n    </tr>\n    <tr>\n      <th>657439</th>\n      <td>126.75</td>\n      <td>36.75</td>\n      <td>1990-04-25</td>\n      <td>2.404839</td>\n      <td>5.795555</td>\n      <td>4.023796</td>\n      <td>9.251907</td>\n      <td>101487.5300</td>\n      <td>0.439220</td>\n      <td>54382.0625</td>\n    </tr>\n    <tr>\n      <th>1135669</th>\n      <td>128.25</td>\n      <td>35.00</td>\n      <td>1990-04-25</td>\n      <td>2.674370</td>\n      <td>2.579735</td>\n      <td>4.304069</td>\n      <td>4.209915</td>\n      <td>101803.7800</td>\n      <td>0.374164</td>\n      <td>55000.6875</td>\n    </tr>\n    <tr>\n      <th>1281655</th>\n      <td>128.50</td>\n      <td>38.00</td>\n      <td>1990-04-25</td>\n      <td>5.043511</td>\n      <td>3.765770</td>\n      <td>8.261589</td>\n      <td>6.149368</td>\n      <td>101170.7800</td>\n      <td>0.369854</td>\n      <td>54134.6875</td>\n    </tr>\n  </tbody>\n</table>\n<p>1078140 rows × 10 columns</p>\n</div>"
     },
     "execution_count": 51,
     "metadata": {},
     "output_type": "execute_result"
    }
   ],
   "source": [
    "splitter = DataSplitter(data, batch_size=32)\n",
    "train, validation, test = splitter.split_data()\n",
    "train\n",
    "#log_combined_data_loader_info(train, validation, test)"
   ],
   "metadata": {
    "collapsed": false,
    "ExecuteTime": {
     "end_time": "2023-11-30T14:21:58.267598100Z",
     "start_time": "2023-11-30T14:21:56.470562Z"
    }
   },
   "id": "7363a41c960bc718"
  },
  {
   "cell_type": "code",
   "execution_count": null,
   "outputs": [],
   "source": [],
   "metadata": {
    "collapsed": false
   },
   "id": "a91526cb2214414f"
  },
  {
   "cell_type": "code",
   "execution_count": 32,
   "outputs": [],
   "source": [
    "# Build and train the model\n",
    "builder = ModelBuilder()\n",
    "\n",
    "\n",
    "# Visualization and report generation (optional)\n",
    "# These steps would require additional data or modifications\n",
    "# depending on your specific use case and available data\n",
    "\n",
    "# Example usage (modify as needed):\n",
    "# visualizer = PredictionVisualizer(model, processed_data)\n",
    "# future_data = ... # Load or create your future data for prediction\n",
    "# visualizer.visualize_future_forecast(future_data)\n",
    "# test_data = ... # Subset of processed_data or separate test data\n",
    "# visualizer.compare_actual_vs_predicted(test_data)\n",
    "\n",
    "# Generate report (modify as needed):\n",
    "# actual_values = ... # Actual values from your dataset\n",
    "# predicted_values = model.predict(...) # Predictions from your model\n",
    "# report_generator = ReportGenerator(actual_values, predicted_values)\n",
    "# report_generator.generate_report()"
   ],
   "metadata": {
    "collapsed": false,
    "ExecuteTime": {
     "end_time": "2023-11-30T14:00:13.960198600Z",
     "start_time": "2023-11-30T14:00:13.931343Z"
    }
   },
   "id": "6449d568eeee74d5"
  },
  {
   "cell_type": "code",
   "execution_count": 32,
   "outputs": [],
   "source": [],
   "metadata": {
    "collapsed": false,
    "ExecuteTime": {
     "end_time": "2023-11-30T14:00:13.960198600Z",
     "start_time": "2023-11-30T14:00:13.944250700Z"
    }
   },
   "id": "f3bd5898aadd81de"
  }
 ],
 "metadata": {
  "kernelspec": {
   "display_name": "Python 3",
   "language": "python",
   "name": "python3"
  },
  "language_info": {
   "codemirror_mode": {
    "name": "ipython",
    "version": 2
   },
   "file_extension": ".py",
   "mimetype": "text/x-python",
   "name": "python",
   "nbconvert_exporter": "python",
   "pygments_lexer": "ipython2",
   "version": "2.7.6"
  }
 },
 "nbformat": 4,
 "nbformat_minor": 5
}
